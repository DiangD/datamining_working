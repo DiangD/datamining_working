{
 "cells": [
  {
   "cell_type": "code",
   "execution_count": null,
   "outputs": [],
   "source": [
    "import binascii\n",
    "import math\n",
    "import random\n",
    "import re\n",
    "import string\n",
    "\n",
    "import scipy.optimize as opt\n",
    "import collections"
   ],
   "metadata": {
    "collapsed": false,
    "pycharm": {
     "name": "#%%\n"
    }
   }
  },
  {
   "cell_type": "code",
   "execution_count": 2,
   "outputs": [],
   "source": [
    "import numpy as np\n",
    "\n",
    "\n",
    "def invert_shingles(shingled_documents):\n",
    "    # initialize list for tuples\n",
    "    doc_items_pair = []\n",
    "    # initialize list for document ids\n",
    "    doc_ids = []\n",
    "    # for each document in input\n",
    "    for shingled_doc in shingled_documents:\n",
    "        # append document id to list\n",
    "        doc_id, items = shingled_doc\n",
    "        doc_ids.append(doc_id)\n",
    "        for item in items:\n",
    "            # append (item, doc_id) tuple\n",
    "            doc_items_pair.append((item, doc_id))\n",
    "    # sort tuple list\n",
    "    doc_items_pair.sort(key=lambda x: x[0])\n",
    "    # return sorted tuple list, and document list\n",
    "    return doc_items_pair, doc_ids\n",
    "\n",
    "\n",
    "exclude = set(string.punctuation)\n",
    "\n",
    "\n",
    "def parse_data(filename):\n",
    "    ans = []\n",
    "    with open(\"data/\" + filename, \"r\") as f:\n",
    "        # read lines from filename\n",
    "        for line in f:\n",
    "            if line[-1] == \"\\n\":\n",
    "                line = line[:-1]\n",
    "            m = re.search(r't\\d+', line)\n",
    "            doc_id = m.group()\n",
    "            doc = line[len(doc_id):].lower().replace(\" \", \"\")\n",
    "            doc = ''.join(ch for ch in doc if ch not in exclude)\n",
    "            ans.append((doc_id, doc))\n",
    "    return ans\n",
    "\n",
    "\n",
    "def shingle_document(string, k):\n",
    "    shingles_in_doc = set()\n",
    "    for index in range(len(string) - k + 1):\n",
    "        shingles = string[index:index + k]\n",
    "        crc = binascii.crc32(bytes(shingles, encoding=\"utf-8\"))\n",
    "        shingles_in_doc.add(crc)\n",
    "    return shingles_in_doc\n",
    "\n",
    "\n",
    "def get_shingled_list(docs):\n",
    "    ans = []\n",
    "    for doc in docs:\n",
    "        doc_id, content = doc\n",
    "        ans.append((doc_id, shingle_document(content, K)))\n",
    "    return ans\n",
    "\n",
    "\n",
    "def make_minhash_signature(shingled_data, num_hashes):\n",
    "    inv_index, doc_ids = invert_shingles(shingled_data)\n",
    "    num_docs = len(doc_ids)\n",
    "\n",
    "    # initialize the signature matrix with infinity in every entry\n",
    "    sig_matrix = np.full([num_hashes, num_docs], np.inf)\n",
    "\n",
    "    # generate hash functions\n",
    "    hash_funcs = make_hashes(num_hashes)\n",
    "\n",
    "    column_cache = doc_ids_column_cache(doc_ids)\n",
    "    # iterate over each non-zero entry of the characteristic matrix\n",
    "    for row, doc_id in inv_index:\n",
    "        # update signature matrix if needed\n",
    "        col = column_cache[doc_id]\n",
    "        for i, hash_fn in enumerate(hash_funcs):\n",
    "            sig_matrix[i][col] = min(hash_fn(row), sig_matrix[i][col])\n",
    "    return sig_matrix, doc_ids\n",
    "\n",
    "\n",
    "def doc_ids_column_cache(doc_ids: list):\n",
    "    cache = {}\n",
    "    for i, doc_id in enumerate(doc_ids):\n",
    "        cache[doc_id] = i\n",
    "    return cache\n"
   ],
   "metadata": {
    "collapsed": false,
    "pycharm": {
     "name": "#%%\n"
    }
   }
  },
  {
   "cell_type": "code",
   "execution_count": 3,
   "outputs": [],
   "source": [
    "def make_hashes(num_hash):\n",
    "    fns = []\n",
    "    for _ in range(num_hash):\n",
    "        fns.append(make_random_hash_fn())\n",
    "    return fns"
   ],
   "metadata": {
    "collapsed": false,
    "pycharm": {
     "name": "#%%\n"
    }
   }
  },
  {
   "cell_type": "code",
   "execution_count": 4,
   "outputs": [],
   "source": [
    "\n",
    "def make_random_hash_fn(p=2 ** 33 - 355, m=4294967295):\n",
    "    a = random.randint(1, p - 1)\n",
    "    b = random.randint(0, p - 1)\n",
    "    return lambda x: ((a * x + b) % p) % m"
   ],
   "metadata": {
    "collapsed": false,
    "pycharm": {
     "name": "#%%\n"
    }
   }
  },
  {
   "cell_type": "code",
   "execution_count": 5,
   "outputs": [],
   "source": [
    "def _choose_nbands(t, n):\n",
    "    def _error_fun(x):\n",
    "        cur_t = (1 / x[0]) ** (x[0] / n)\n",
    "        return (t - cur_t) ** 2\n",
    "\n",
    "    opt_res = opt.minimize(_error_fun, x0=(10), method='Nelder-Mead')\n",
    "    b = int(math.ceil(opt_res['x'][0]))\n",
    "    r = int(n / b)\n",
    "    final_t = (1 / b) ** (1 / r)\n",
    "    return b, final_t"
   ],
   "metadata": {
    "collapsed": false,
    "pycharm": {
     "name": "#%%\n"
    }
   }
  },
  {
   "cell_type": "code",
   "execution_count": 6,
   "outputs": [],
   "source": [
    "def _make_vector_hash(num_hashes, m=4294967295):\n",
    "    hash_fns = make_hashes(num_hashes)\n",
    "\n",
    "    def _f(vec):\n",
    "        acc = 0\n",
    "        for i in range(len(vec)):\n",
    "            h = hash_fns[i]\n",
    "            acc += h(vec[i])\n",
    "        return acc % m\n",
    "\n",
    "    return _f"
   ],
   "metadata": {
    "collapsed": false,
    "pycharm": {
     "name": "#%%\n"
    }
   }
  },
  {
   "cell_type": "code",
   "execution_count": 7,
   "outputs": [],
   "source": [
    "def do_lsh(minhash_sigmatrix, numhashes, docids, threshold):\n",
    "    # choose the number of bands, and rows per band to use in LSH\n",
    "    b, _ = _choose_nbands(threshold, numhashes)\n",
    "    r = int(numhashes / b)\n",
    "\n",
    "    narticles = len(docids)\n",
    "\n",
    "    # generate a random hash function that takes vectors of lenght r as input\n",
    "    hash_func = _make_vector_hash(r)\n",
    "\n",
    "    # setup the list of hashtables, will be populated with one hashtable per band\n",
    "    buckets = []\n",
    "\n",
    "    # fill hash tables for each band\n",
    "    for band in range(b):\n",
    "        # figure out which rows of minhash signature matrix to hash for this band\n",
    "        start_index = int(band * r)\n",
    "        end_index = min(start_index + r, numhashes)\n",
    "\n",
    "        # initialize hashtable for this band\n",
    "        cur_buckets = collections.defaultdict(list)\n",
    "\n",
    "        for j in range(narticles):\n",
    "            # THIS IS WHAT YOU NEED TO IMPLEMENT\n",
    "            hashes = minhash_sigmatrix[start_index:end_index, j]\n",
    "            cur_buckets[hash_func(hashes)].append(j)\n",
    "\n",
    "        # add this hashtable to the list of hashtables\n",
    "        buckets.append(cur_buckets)\n",
    "\n",
    "    return buckets"
   ],
   "metadata": {
    "collapsed": false,
    "pycharm": {
     "name": "#%%\n"
    }
   }
  },
  {
   "cell_type": "code",
   "execution_count": 8,
   "outputs": [],
   "source": [
    "TRAIN = \"articles_10000.train\"\n",
    "TRUTH = \"articles_10000.truth\"\n",
    "\n",
    "K = 10\n",
    "num_hashes = 100\n",
    "doc_data = parse_data(TRAIN)\n",
    "shingled_list = get_shingled_list(doc_data)\n",
    "sig_matrix, doc_ids = make_minhash_signature(shingled_list, num_hashes)\n",
    "\n",
    "truth_data = parse_data(TRUTH)"
   ],
   "metadata": {
    "collapsed": false,
    "pycharm": {
     "name": "#%%\n"
    }
   }
  },
  {
   "cell_type": "code",
   "execution_count": 9,
   "outputs": [],
   "source": [
    "import itertools\n",
    "\n",
    "\n",
    "def get_truth_cache(truth_tuples, doc_ids):\n",
    "    cache = []\n",
    "    ids_column_cache = doc_ids_column_cache(doc_ids)\n",
    "    for (id1, id2) in truth_tuples:\n",
    "        cache.append((ids_column_cache[id1], ids_column_cache[id2]))\n",
    "    return cache\n",
    "\n",
    "\n",
    "def find_pairs(buckets):\n",
    "    pair_tuple = list()\n",
    "    for row in buckets:\n",
    "        all_items = [x for x in row.values() if len(x) > 1]\n",
    "        for ind in all_items:\n",
    "            pair_tuple.extend(list(itertools.combinations(tuple(ind), 2)))\n",
    "\n",
    "        return set(pair_tuple)\n",
    "\n",
    "\n",
    "truth_cache = get_truth_cache(truth_data, doc_ids)"
   ],
   "metadata": {
    "collapsed": false,
    "pycharm": {
     "name": "#%%\n"
    }
   }
  },
  {
   "cell_type": "code",
   "execution_count": 10,
   "outputs": [],
   "source": [
    "def test_threshold(threshold):\n",
    "    tuples = []\n",
    "    r = 2\n",
    "    for t in np.arange(0.1, threshold, 0.05):\n",
    "        buckets = do_lsh(sig_matrix, len(sig_matrix), doc_ids, t)\n",
    "        predicted = list(find_pairs(buckets))\n",
    "        n = len(doc_ids)\n",
    "        print(\"threshold = \" + str(t))\n",
    "        print(\"Len of Predicted: \" + str(len(predicted)))\n",
    "        print(\"Len of Truth: \" + str(len(truth_cache)))\n",
    "\n",
    "        TP = len([x for x in truth_cache if x in predicted])\n",
    "        print(\"TP = \" + str(TP))\n",
    "\n",
    "        FP = len(predicted) - TP\n",
    "        print(\"FP = \" + str(FP))\n",
    "\n",
    "        ALL = math.factorial(n) / (math.factorial(n - r) * math.factorial(r))\n",
    "\n",
    "        TN = ALL - len(predicted) - len(truth_cache) + TP\n",
    "        print(\"TN = \" + str(TN))\n",
    "\n",
    "        FN = len(truth_cache) - TP\n",
    "        print(\"FN = \" + str(FN))\n",
    "\n",
    "        sensitivity = TP / (TP + FN)  # TP/(TP + FN)\n",
    "        specificity = TN / (TN + FP)  # TN/(TN + FP)\n",
    "\n",
    "        tuples.append((t, sensitivity, specificity))\n",
    "    return tuples"
   ],
   "metadata": {
    "collapsed": false,
    "pycharm": {
     "name": "#%%\n"
    }
   }
  },
  {
   "cell_type": "code",
   "execution_count": 11,
   "outputs": [
    {
     "name": "stdout",
     "output_type": "stream",
     "text": [
      "threshold = 0.1\n",
      "Len of Predicted: 44575\n",
      "Len of Truth: 80\n",
      "TP = 40\n",
      "FP = 44535\n",
      "TN = 49950385.0\n",
      "FN = 40\n",
      "threshold = 0.15000000000000002\n",
      "Len of Predicted: 1425\n",
      "Len of Truth: 80\n",
      "TP = 40\n",
      "FP = 1385\n",
      "TN = 49993535.0\n",
      "FN = 40\n",
      "threshold = 0.20000000000000004\n",
      "Len of Predicted: 1425\n",
      "Len of Truth: 80\n",
      "TP = 40\n",
      "FP = 1385\n",
      "TN = 49993535.0\n",
      "FN = 40\n",
      "threshold = 0.25000000000000006\n",
      "Len of Predicted: 1425\n",
      "Len of Truth: 80\n",
      "TP = 40\n",
      "FP = 1385\n",
      "TN = 49993535.0\n",
      "FN = 40\n",
      "threshold = 0.30000000000000004\n",
      "Len of Predicted: 1425\n",
      "Len of Truth: 80\n",
      "TP = 40\n",
      "FP = 1385\n",
      "TN = 49993535.0\n",
      "FN = 40\n",
      "threshold = 0.3500000000000001\n",
      "Len of Predicted: 415\n",
      "Len of Truth: 80\n",
      "TP = 40\n",
      "FP = 375\n",
      "TN = 49994545.0\n",
      "FN = 40\n",
      "threshold = 0.40000000000000013\n",
      "Len of Predicted: 415\n",
      "Len of Truth: 80\n",
      "TP = 40\n",
      "FP = 375\n",
      "TN = 49994545.0\n",
      "FN = 40\n",
      "threshold = 0.45000000000000007\n",
      "Len of Predicted: 80\n",
      "Len of Truth: 80\n",
      "TP = 40\n",
      "FP = 40\n",
      "TN = 49994880.0\n",
      "FN = 40\n",
      "threshold = 0.5000000000000001\n",
      "Len of Predicted: 80\n",
      "Len of Truth: 80\n",
      "TP = 40\n",
      "FP = 40\n",
      "TN = 49994880.0\n",
      "FN = 40\n",
      "threshold = 0.5500000000000002\n",
      "Len of Predicted: 76\n",
      "Len of Truth: 80\n",
      "TP = 39\n",
      "FP = 37\n",
      "TN = 49994883.0\n",
      "FN = 41\n",
      "threshold = 0.6000000000000002\n",
      "Len of Predicted: 76\n",
      "Len of Truth: 80\n",
      "TP = 39\n",
      "FP = 37\n",
      "TN = 49994883.0\n",
      "FN = 41\n",
      "threshold = 0.6500000000000001\n",
      "Len of Predicted: 75\n",
      "Len of Truth: 80\n",
      "TP = 39\n",
      "FP = 36\n",
      "TN = 49994884.0\n",
      "FN = 41\n",
      "threshold = 0.7000000000000002\n",
      "Len of Predicted: 73\n",
      "Len of Truth: 80\n",
      "TP = 39\n",
      "FP = 34\n",
      "TN = 49994886.0\n",
      "FN = 41\n",
      "threshold = 0.7500000000000002\n",
      "Len of Predicted: 72\n",
      "Len of Truth: 80\n",
      "TP = 39\n",
      "FP = 33\n",
      "TN = 49994887.0\n",
      "FN = 41\n",
      "threshold = 0.8000000000000002\n",
      "Len of Predicted: 72\n",
      "Len of Truth: 80\n",
      "TP = 39\n",
      "FP = 33\n",
      "TN = 49994887.0\n",
      "FN = 41\n",
      "threshold = 0.8500000000000002\n",
      "Len of Predicted: 69\n",
      "Len of Truth: 80\n",
      "TP = 37\n",
      "FP = 32\n",
      "TN = 49994888.0\n",
      "FN = 43\n",
      "threshold = 0.9000000000000002\n",
      "Len of Predicted: 68\n",
      "Len of Truth: 80\n",
      "TP = 36\n",
      "FP = 32\n",
      "TN = 49994888.0\n",
      "FN = 44\n"
     ]
    },
    {
     "name": "stderr",
     "output_type": "stream",
     "text": [
      "/var/folders/z3/5qvbk77s3bs10cd05_tp_fyw0000gn/T/ipykernel_60861/3610618223.py:3: RuntimeWarning: invalid value encountered in double_scalars\n",
      "  cur_t = (1 / x[0]) ** (x[0] / n)\n"
     ]
    },
    {
     "name": "stdout",
     "output_type": "stream",
     "text": [
      "threshold = 0.9500000000000003\n",
      "Len of Predicted: 66\n",
      "Len of Truth: 80\n",
      "TP = 35\n",
      "FP = 31\n",
      "TN = 49994889.0\n",
      "FN = 45\n"
     ]
    },
    {
     "data": {
      "text/plain": "<Figure size 432x288 with 1 Axes>",
      "image/png": "[encoded data removed]"
     },
     "metadata": {
      "needs_background": "light"
     },
     "output_type": "display_data"
    },
    {
     "data": {
      "text/plain": "<Figure size 432x288 with 1 Axes>",
      "image/png": "[encoded data removed]"
     },
     "metadata": {
      "needs_background": "light"
     },
     "output_type": "display_data"
    }
   ],
   "source": [
    "\n",
    "import pandas as pd\n",
    "import matplotlib.pyplot as plt\n",
    "\n",
    "data = test_threshold(1)\n",
    "dt = pd.DataFrame(data, columns=[\"threshold\", \"sensitivity\", \"specificity\"])\n",
    "plt.plot(dt.threshold, dt.sensitivity, color=\"blue\")\n",
    "plt.title(\"Sensitivity of Plagiarism Pair Prediction using LSH\")\n",
    "plt.xlabel(\"Threshold\")\n",
    "plt.ylabel(\"Sensitivity\")\n",
    "plt.show()\n",
    "\n",
    "plt.plot(dt.threshold, dt.specificity, color=\"Red\")\n",
    "plt.title(\"Specificity of Plagiarism Pair Prediction using LSH\")\n",
    "plt.xlabel(\"Threshold\")\n",
    "plt.ylabel(\"Specificity\")\n",
    "plt.show()"
   ],
   "metadata": {
    "collapsed": false,
    "pycharm": {
     "name": "#%%\n"
    }
   }
  }
 ],
 "metadata": {
  "kernelspec": {
   "name": "conda-env-d2l-py",
   "language": "python",
   "display_name": "Python [conda env:d2l] *"
  },
  "language_info": {
   "codemirror_mode": {
    "name": "ipython",
    "version": 2
   },
   "file_extension": ".py",
   "mimetype": "text/x-python",
   "name": "python",
   "nbconvert_exporter": "python",
   "pygments_lexer": "ipython2",
   "version": "2.7.6"
  }
 },
 "nbformat": 4,
 "nbformat_minor": 0
}