{
 "cells": [
  {
   "cell_type": "code",
   "execution_count": 15,
   "outputs": [],
   "source": [
    "import binascii\n",
    "import math\n",
    "import random\n",
    "import re\n",
    "import string\n",
    "\n",
    "import numpy as np"
   ],
   "metadata": {
    "collapsed": false,
    "pycharm": {
     "name": "#%%\n"
    }
   }
  },
  {
   "cell_type": "code",
   "execution_count": 16,
   "outputs": [],
   "source": [
    "def invert_shingles(shingled_documents):\n",
    "    # initialize list for tuples\n",
    "    doc_items_pair = []\n",
    "    # initialize list for document ids\n",
    "    doc_ids = []\n",
    "    # for each document in input\n",
    "    for shingled_doc in shingled_documents:\n",
    "        # append document id to list\n",
    "        doc_id, items = shingled_doc\n",
    "        doc_ids.append(doc_id)\n",
    "        for item in items:\n",
    "            # append (item, doc_id) tuple\n",
    "            doc_items_pair.append((item, doc_id))\n",
    "    # sort tuple list\n",
    "    doc_items_pair.sort(key=lambda x: x[0])\n",
    "    # return sorted tuple list, and document list\n",
    "    return doc_items_pair, doc_ids"
   ],
   "metadata": {
    "collapsed": false,
    "pycharm": {
     "name": "#%%\n"
    }
   }
  },
  {
   "cell_type": "code",
   "execution_count": 17,
   "outputs": [],
   "source": [
    "exclude = set(string.punctuation)\n",
    "\n",
    "\n",
    "def parse_data(filename):\n",
    "    ans = []\n",
    "    with open(\"data/\" + filename, \"r\") as f:\n",
    "        # read lines from filename\n",
    "        for line in f:\n",
    "            if line[-1] == \"\\n\":\n",
    "                line = line[:-1]\n",
    "            m = re.search(r't\\d+', line)\n",
    "            doc_id = m.group()\n",
    "            doc = line[len(doc_id):].lower().replace(\" \", \"\")\n",
    "            doc = ''.join(ch for ch in doc if ch not in exclude)\n",
    "            ans.append((doc_id, doc))\n",
    "    return ans"
   ],
   "metadata": {
    "collapsed": false,
    "pycharm": {
     "name": "#%%\n"
    }
   }
  },
  {
   "cell_type": "code",
   "execution_count": 18,
   "outputs": [],
   "source": [
    "def shingle_document(string, k):\n",
    "    shingles_in_doc = set()\n",
    "    for index in range(len(string) - k + 1):\n",
    "        shingles = string[index:index + k]\n",
    "        crc = binascii.crc32(bytes(shingles, encoding=\"utf-8\"))\n",
    "        shingles_in_doc.add(crc)\n",
    "    return shingles_in_doc"
   ],
   "metadata": {
    "collapsed": false,
    "pycharm": {
     "name": "#%%\n"
    }
   }
  },
  {
   "cell_type": "code",
   "execution_count": 19,
   "outputs": [],
   "source": [
    "def jaccard(a: set, b: set):\n",
    "    # compute union size\n",
    "    u = a.union(b)\n",
    "    # compute intersection size\n",
    "    i = a.intersection(b)\n",
    "    return len(i) / len(u)\n",
    "\n",
    "\n",
    "def compute_docs_JSim(filename, k):\n",
    "    docs = parse_data(filename)\n",
    "    doc_num = len(docs)\n",
    "    ans = []\n",
    "    for i in range(doc_num):\n",
    "        doc_id, doc = docs[i]\n",
    "        doc_shingles = shingle_document(doc, k)\n",
    "        for j in range(i + 1, doc_num):\n",
    "            compared_doc_id, compared_doc = docs[j]\n",
    "            compared_doc_shingles = shingle_document(compared_doc, k)\n",
    "            j_sim = jaccard(doc_shingles, compared_doc_shingles)\n",
    "            ans.append((doc_id, compared_doc_id, j_sim))\n",
    "    return ans"
   ],
   "metadata": {
    "collapsed": false,
    "pycharm": {
     "name": "#%%\n"
    }
   }
  },
  {
   "cell_type": "code",
   "execution_count": 20,
   "outputs": [],
   "source": [
    "TRAIN = \"articles_100.train\"\n",
    "TRUTH = \"articles_100.truth\"\n",
    "K = 10"
   ],
   "metadata": {
    "collapsed": false,
    "pycharm": {
     "name": "#%%\n"
    }
   }
  },
  {
   "cell_type": "code",
   "execution_count": 21,
   "outputs": [],
   "source": [
    "def get_shingled_list(docs):\n",
    "    ans = []\n",
    "    for doc in docs:\n",
    "        doc_id, content = doc\n",
    "        ans.append((doc_id, shingle_document(content, K)))\n",
    "    return ans"
   ],
   "metadata": {
    "collapsed": false,
    "pycharm": {
     "name": "#%%\n"
    }
   }
  },
  {
   "cell_type": "code",
   "execution_count": 22,
   "outputs": [],
   "source": [
    "def make_random_hash_fn(p=2 ** 33 - 355, m=4294967295):\n",
    "    a = random.randint(1, p - 1)\n",
    "    b = random.randint(0, p - 1)\n",
    "    return lambda x: ((a * x + b) % p) % m\n",
    "\n",
    "\n",
    "def make_hashes(num_hash):\n",
    "    fns = []\n",
    "    for _ in range(num_hash):\n",
    "        fns.append(make_random_hash_fn())\n",
    "    return fns"
   ],
   "metadata": {
    "collapsed": false,
    "pycharm": {
     "name": "#%%\n"
    }
   }
  },
  {
   "cell_type": "code",
   "execution_count": 23,
   "outputs": [],
   "source": [
    "def doc_ids_column_cache(doc_ids: list):\n",
    "    cache = {}\n",
    "    for i, doc_id in enumerate(doc_ids):\n",
    "        cache[doc_id] = i\n",
    "    return cache"
   ],
   "metadata": {
    "collapsed": false,
    "pycharm": {
     "name": "#%%\n"
    }
   }
  },
  {
   "cell_type": "code",
   "execution_count": 24,
   "outputs": [],
   "source": [
    "def make_minhash_signature(shingled_data, num_hashes):\n",
    "    inv_index, doc_ids = invert_shingles(shingled_data)\n",
    "    num_docs = len(doc_ids)\n",
    "\n",
    "    # initialize the signature matrix with infinity in every entry\n",
    "    sig_matrix = np.full([num_hashes, num_docs], np.inf)\n",
    "\n",
    "    # generate hash functions\n",
    "    hash_funcs = make_hashes(num_hashes)\n",
    "\n",
    "    column_cache = doc_ids_column_cache(doc_ids)\n",
    "    # iterate over each non-zero entry of the characteristic matrix\n",
    "    for row, doc_id in inv_index:\n",
    "        # update signature matrix if needed\n",
    "        col = column_cache[doc_id]\n",
    "        for i, hash_fn in enumerate(hash_funcs):\n",
    "            sig_matrix[i][col] = min(hash_fn(row), sig_matrix[i][col])\n",
    "    return sig_matrix, doc_ids"
   ],
   "metadata": {
    "collapsed": false,
    "pycharm": {
     "name": "#%%\n"
    }
   }
  },
  {
   "cell_type": "code",
   "execution_count": 25,
   "outputs": [],
   "source": [
    "def minhash_similarity(id1, id2, minhash_sig_matrix, doc_ids):\n",
    "    sim = 0\n",
    "    column_cache = doc_ids_column_cache(doc_ids)\n",
    "    # get column of the similarity matrix for the two documents\n",
    "    for row in range(len(minhash_sig_matrix)):\n",
    "        col1, col2 = column_cache[id1], column_cache[id2]\n",
    "        # calculate the fraction of rows where two columns match\n",
    "        if minhash_sig_matrix[row][col1] == minhash_sig_matrix[row][col2]:\n",
    "            sim += 1\n",
    "        # return this fraction as the minhash similarity estimate\n",
    "    return sim / len(minhash_sig_matrix)"
   ],
   "metadata": {
    "collapsed": false,
    "pycharm": {
     "name": "#%%\n"
    }
   }
  },
  {
   "cell_type": "code",
   "execution_count": 26,
   "outputs": [],
   "source": [
    "def minhash_similarity_combined(shingled_doc, num_hashes):\n",
    "    minhash_sig_matrix, doc_ids = make_minhash_signature(shingled_doc, num_hashes)\n",
    "    cache = doc_ids_column_cache(doc_ids)\n",
    "    minhash_matrix = np.zeros((len(doc_ids), len(doc_ids)))\n",
    "    ans = []\n",
    "    for i in range(len(doc_ids)):\n",
    "        index1 = cache[doc_ids[i]]\n",
    "        for j in range(i + 1, len(doc_ids)):\n",
    "            index2 = cache[doc_ids[j]]\n",
    "            sim = minhash_similarity(doc_ids[i], doc_ids[j], minhash_sig_matrix, doc_ids)\n",
    "            minhash_matrix[index1][index2] = sim\n",
    "            ans.append((doc_ids[i], doc_ids[j], sim))\n",
    "    return minhash_matrix, ans"
   ],
   "metadata": {
    "collapsed": false,
    "pycharm": {
     "name": "#%%\n"
    }
   }
  },
  {
   "cell_type": "code",
   "execution_count": 27,
   "outputs": [],
   "source": [
    "def plot_jsim_minhash(train, num_hashes):\n",
    "    import pandas as pd\n",
    "    import matplotlib.pyplot as plt\n",
    "\n",
    "    doc_data = parse_data(train)\n",
    "    j_sim_list = compute_docs_JSim(train, K)\n",
    "    js = pd.DataFrame(j_sim_list)\n",
    "    js.columns = [\"id1\", \"id2\", \"js\"]\n",
    "    shingled_list = get_shingled_list(doc_data)\n",
    "    dt = []\n",
    "    for k in range(1, num_hashes + 1):\n",
    "        tuples = minhash_similarity_combined(shingled_list, k)[1]\n",
    "        mh = pd.DataFrame(tuples)\n",
    "        mh.columns = [\"id1\", \"id2\", \"mh\"]\n",
    "\n",
    "        # use min squared error\n",
    "        df = pd.merge(js, mh, on=[\"id1\", \"id2\"])\n",
    "        df[\"diff\"] = (df.js - df.mh) ** 2\n",
    "        mse = df[\"diff\"].sum()\n",
    "        rmse = math.sqrt(mse / len(df))\n",
    "        fraction = np.mean(js.js == mh.mh)\n",
    "        num = k\n",
    "        dt.append((num, rmse, fraction))\n",
    "    dt = pd.DataFrame(dt, columns=[\"num\", \"rmse\", \"fraction\"])\n",
    "    plt.plot(dt.num, dt.rmse, color=\"blue\")\n",
    "    plt.title(\"RMSE of Jaccard Similarity and MinHash Similarity\")\n",
    "    plt.xlabel(\"Number of Hash Functions\")\n",
    "    plt.ylabel(\"Root Mean Squared Error\")\n",
    "    plt.show()"
   ],
   "metadata": {
    "collapsed": false,
    "pycharm": {
     "name": "#%%\n"
    }
   }
  },
  {
   "cell_type": "code",
   "execution_count": 28,
   "outputs": [
    {
     "data": {
      "text/plain": "<Figure size 432x288 with 1 Axes>",
      "image/png": "[encoded data removed]"
     },
     "metadata": {
      "needs_background": "light"
     },
     "output_type": "display_data"
    }
   ],
   "source": [
    "plot_jsim_minhash(TRAIN, 100)"
   ],
   "metadata": {
    "collapsed": false,
    "pycharm": {
     "name": "#%%\n"
    }
   }
  }
 ],
 "metadata": {
  "kernelspec": {
   "display_name": "Python 3",
   "language": "python",
   "name": "python3"
  },
  "language_info": {
   "codemirror_mode": {
    "name": "ipython",
    "version": 2
   },
   "file_extension": ".py",
   "mimetype": "text/x-python",
   "name": "python",
   "nbconvert_exporter": "python",
   "pygments_lexer": "ipython2",
   "version": "2.7.6"
  }
 },
 "nbformat": 4,
 "nbformat_minor": 0
}