{
 "cells": [
  {
   "cell_type": "code",
   "execution_count": 14,
   "outputs": [],
   "source": [
    "import binascii\n",
    "import re\n",
    "import string"
   ],
   "metadata": {
    "collapsed": false,
    "pycharm": {
     "name": "#%%\n"
    }
   }
  },
  {
   "cell_type": "code",
   "execution_count": 15,
   "outputs": [],
   "source": [
    "exclude = set(string.punctuation)"
   ],
   "metadata": {
    "collapsed": false,
    "pycharm": {
     "name": "#%%\n"
    }
   }
  },
  {
   "cell_type": "code",
   "execution_count": 16,
   "outputs": [],
   "source": [
    "def parse_data(filename):\n",
    "    ans = []\n",
    "    with open(\"data/\" + filename, \"r\") as f:\n",
    "        # read lines from filename\n",
    "        for line in f:\n",
    "            if line[-1] == \"\\n\":\n",
    "                line = line[:-1]\n",
    "            m = re.search(r't\\d+', line)\n",
    "            doc_id = m.group()\n",
    "            doc = line[len(doc_id):].lower().replace(\" \", \"\")\n",
    "            doc = ''.join(ch for ch in doc if ch not in exclude)\n",
    "            ans.append((doc_id, doc))\n",
    "    return ans"
   ],
   "metadata": {
    "collapsed": false,
    "pycharm": {
     "name": "#%%\n"
    }
   }
  },
  {
   "cell_type": "code",
   "execution_count": 17,
   "outputs": [],
   "source": [
    "def shingle_document(string, k):\n",
    "    shingles_in_doc = set()\n",
    "    for index in range(len(string) - k + 1):\n",
    "        shingles = string[index:index + k]\n",
    "        crc = binascii.crc32(bytes(shingles, encoding=\"utf-8\"))\n",
    "        shingles_in_doc.add(crc)\n",
    "    return shingles_in_doc"
   ],
   "metadata": {
    "collapsed": false,
    "pycharm": {
     "name": "#%%\n"
    }
   }
  },
  {
   "cell_type": "code",
   "execution_count": 18,
   "outputs": [],
   "source": [
    "def jaccard(a: set, b: set):\n",
    "    # compute union size\n",
    "    u = a.union(b)\n",
    "    # compute intersection size\n",
    "    i = a.intersection(b)\n",
    "    return len(i) / len(u)"
   ],
   "metadata": {
    "collapsed": false,
    "pycharm": {
     "name": "#%%\n"
    }
   }
  },
  {
   "cell_type": "code",
   "execution_count": 19,
   "outputs": [],
   "source": [
    "def compute_docs_JSim(filename, k):\n",
    "    docs = parse_data(filename)\n",
    "    doc_num = len(docs)\n",
    "    ans = []\n",
    "    for i in range(doc_num):\n",
    "        doc_id, doc = docs[i]\n",
    "        doc_shingles = shingle_document(doc, k)\n",
    "        for j in range(i + 1, doc_num):\n",
    "            compared_doc_id, compared_doc = docs[j]\n",
    "            compared_doc_shingles = shingle_document(compared_doc, k)\n",
    "            j_sim = jaccard(doc_shingles, compared_doc_shingles)\n",
    "            ans.append((doc_id, compared_doc_id, j_sim))\n",
    "    return ans"
   ],
   "metadata": {
    "collapsed": false,
    "pycharm": {
     "name": "#%%\n"
    }
   }
  },
  {
   "cell_type": "code",
   "execution_count": 20,
   "outputs": [],
   "source": [
    "def get_mean_data(train, truth, n):\n",
    "    truth_data = parse_data(truth)\n",
    "    ans = []\n",
    "    for k in range(1, n + 1):\n",
    "        doc_js = compute_docs_JSim(train, k)\n",
    "        abbr_dict = {tuple(item[0:2]): item[2] for item in doc_js}\n",
    "        sum_train, sum_truth = 0, 0\n",
    "        for i in range(len(truth_data) - 1):\n",
    "            sum_truth += abbr_dict[(truth_data[i])]\n",
    "        mean_truth = sum_truth / len(truth_data)\n",
    "        for j in range(len(doc_js) - 1):\n",
    "            sum_train += doc_js[j][2]\n",
    "        mean_train = (sum_train - sum_truth) / (len(doc_js) - len(truth_data))\n",
    "        ans.append((k, mean_train, mean_truth))\n",
    "    return ans"
   ],
   "metadata": {
    "collapsed": false,
    "pycharm": {
     "name": "#%%\n"
    }
   }
  },
  {
   "cell_type": "code",
   "execution_count": 21,
   "outputs": [],
   "source": [
    "def draw_mean_plot(filename_train, filename_truth, n):\n",
    "    import matplotlib.pyplot as plt\n",
    "    import pandas as pd\n",
    "    mean_plot = get_mean_data(filename_train, filename_truth, n)\n",
    "    df = pd.DataFrame(mean_plot)\n",
    "    df.columns = [\"k\", \"non-plagiarism instances\", \"plagiarism instances\"]\n",
    "\n",
    "    plt.plot('k', 'non-plagiarism instances', data=df, color='green')\n",
    "    plt.plot('k', 'plagiarism instances', data=df, color='red')\n",
    "\n",
    "    plt.xlabel('k value')\n",
    "    plt.ylabel('average Jaccard similarity')\n",
    "\n",
    "    plt.title('Plagiarism and Non-Plagiarism Articles\\'\\nJaccard Similarity Comparison\\n')\n",
    "    plt.legend()\n",
    "    plt.show()"
   ],
   "metadata": {
    "collapsed": false,
    "pycharm": {
     "name": "#%%\n"
    }
   }
  },
  {
   "cell_type": "code",
   "execution_count": 22,
   "outputs": [
    {
     "data": {
      "text/plain": "<Figure size 432x288 with 1 Axes>",
      "image/png": "[encoded data removed]"
     },
     "metadata": {
      "needs_background": "light"
     },
     "output_type": "display_data"
    }
   ],
   "source": [
    "TRAIN = \"articles_100.train\"\n",
    "TRUTH = \"articles_100.truth\"\n",
    "draw_mean_plot(TRAIN, TRUTH, 100)"
   ],
   "metadata": {
    "collapsed": false,
    "pycharm": {
     "name": "#%%\n"
    }
   }
  }
 ],
 "metadata": {
  "kernelspec": {
   "name": "conda-env-d2l-py",
   "language": "python",
   "display_name": "Python [conda env:d2l] *"
  },
  "language_info": {
   "codemirror_mode": {
    "name": "ipython",
    "version": 2
   },
   "file_extension": ".py",
   "mimetype": "text/x-python",
   "name": "python",
   "nbconvert_exporter": "python",
   "pygments_lexer": "ipython2",
   "version": "2.7.6"
  }
 },
 "nbformat": 4,
 "nbformat_minor": 0
}